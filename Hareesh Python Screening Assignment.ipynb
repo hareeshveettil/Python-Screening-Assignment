{
 "cells": [
  {
   "cell_type": "code",
   "execution_count": 1,
   "metadata": {},
   "outputs": [],
   "source": [
    "## function\n",
    "def text_replace_fn(value,replace):\n",
    "    #value = input(\"enter the text to be replaced\")\n",
    "    print(f'You entered {value}')\n",
    "    #replace = input(\"enter the text that will replace\")\n",
    "    print(f'You entered {replace}')\n",
    "    file = open(\"example.txt\", \"r+\")\n",
    "    read_file = file.readlines()\n",
    "    c = 0\n",
    "    for i in read_file:\n",
    "        if value in i:\n",
    "            Replacement = i.replace(value, replace)\n",
    "            read_file = Replacement\n",
    "        c += 1\n",
    "    file.truncate(0)\n",
    "    file.writelines(read_file)\n",
    "    file.close()\n",
    "    print(\"Text replaced successfully\")"
   ]
  },
  {
   "cell_type": "code",
   "execution_count": 2,
   "metadata": {},
   "outputs": [
    {
     "name": "stdout",
     "output_type": "stream",
     "text": [
      "Abstract Base Class\n",
      "subclass \n"
     ]
    }
   ],
   "source": [
    "#abstract class, multiple inheritance and decorator in python\n",
    " \n",
    "import abc\n",
    "from abc import ABC, abstractmethod\n",
    " \n",
    "class BaseClass(ABC):\n",
    "    def function1(self):\n",
    "        print(\"Abstract Base Class\")\n",
    " \n",
    "class SubClass(BaseClass):\n",
    "    def function1(self):\n",
    "        super().function1()\n",
    "        print(\"subclass \")\n",
    "        \n",
    "## Run\n",
    "BaseClass = SubClass()\n",
    "BaseClass.function1()\n",
    " \n"
   ]
  },
  {
   "cell_type": "code",
   "execution_count": null,
   "metadata": {},
   "outputs": [],
   "source": []
  }
 ],
 "metadata": {
  "kernelspec": {
   "display_name": "Python 3",
   "language": "python",
   "name": "python3"
  },
  "language_info": {
   "codemirror_mode": {
    "name": "ipython",
    "version": 3
   },
   "file_extension": ".py",
   "mimetype": "text/x-python",
   "name": "python",
   "nbconvert_exporter": "python",
   "pygments_lexer": "ipython3",
   "version": "3.7.4"
  }
 },
 "nbformat": 4,
 "nbformat_minor": 2
}
